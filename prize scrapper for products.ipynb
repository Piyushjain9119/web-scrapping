{
 "cells": [
  {
   "cell_type": "code",
   "execution_count": 1,
   "id": "ab9e1096",
   "metadata": {},
   "outputs": [],
   "source": [
    "import requests\n",
    "from bs4 import BeautifulSoup as bf\n",
    "from urllib.request import urlopen \n",
    "import logging"
   ]
  },
  {
   "cell_type": "code",
   "execution_count": 87,
   "id": "8b9e1b8f",
   "metadata": {},
   "outputs": [
    {
     "name": "stdout",
     "output_type": "stream",
     "text": [
      "enter the stringmotorola G32 mineral gray 128 gb p765617\n"
     ]
    },
    {
     "data": {
      "text/plain": [
       "'motorola-G32-mineral-gray-128-gb-p765617'"
      ]
     },
     "execution_count": 87,
     "metadata": {},
     "output_type": "execute_result"
    }
   ],
   "source": [
    "string1 = input(\"enter the string\")\n",
    "x = string1.split()\n",
    "string1 =\"-\".join(x)\n",
    "string1\n"
   ]
  },
  {
   "cell_type": "code",
   "execution_count": 88,
   "id": "d7d20964",
   "metadata": {},
   "outputs": [],
   "source": [
    "prize_url = \"https://www.pricebefore.com/\"+string1+\".html\""
   ]
  },
  {
   "cell_type": "code",
   "execution_count": 89,
   "id": "84d9469b",
   "metadata": {},
   "outputs": [
    {
     "data": {
      "text/plain": [
       "'https://www.pricebefore.com/motorola-G32-mineral-gray-128-gb-p765617.html'"
      ]
     },
     "execution_count": 89,
     "metadata": {},
     "output_type": "execute_result"
    }
   ],
   "source": [
    "prize_url"
   ]
  },
  {
   "cell_type": "code",
   "execution_count": 90,
   "id": "afd5e1f4",
   "metadata": {},
   "outputs": [],
   "source": [
    "client = urlopen(prize_url)"
   ]
  },
  {
   "cell_type": "code",
   "execution_count": 91,
   "id": "0612844d",
   "metadata": {},
   "outputs": [
    {
     "data": {
      "text/plain": [
       "<http.client.HTTPResponse at 0x1ffd9bc6980>"
      ]
     },
     "execution_count": 91,
     "metadata": {},
     "output_type": "execute_result"
    }
   ],
   "source": [
    "client"
   ]
  },
  {
   "cell_type": "code",
   "execution_count": 92,
   "id": "2fb05693",
   "metadata": {},
   "outputs": [],
   "source": [
    "prize_page = client.read()"
   ]
  },
  {
   "cell_type": "code",
   "execution_count": 93,
   "id": "d83c44e3",
   "metadata": {},
   "outputs": [],
   "source": [
    "prize_html = bf(prize_page,'html.parser')"
   ]
  },
  {
   "cell_type": "code",
   "execution_count": 94,
   "id": "7a477dc7",
   "metadata": {
    "scrolled": true
   },
   "outputs": [],
   "source": [
    "bigbox = prize_html.findAll(\"div\",{\"class\":\"item\"})"
   ]
  },
  {
   "cell_type": "code",
   "execution_count": 95,
   "id": "97a57f4f",
   "metadata": {},
   "outputs": [],
   "source": [
    "total_prize = len(bigbox)"
   ]
  },
  {
   "cell_type": "code",
   "execution_count": 96,
   "id": "b156265f",
   "metadata": {},
   "outputs": [
    {
     "name": "stdout",
     "output_type": "stream",
     "text": [
      "Current Price*\n",
      "Lowest Price\n",
      "Highest Price\n",
      "Current Price*\n",
      "Lowest Price\n",
      "Highest Price\n"
     ]
    }
   ],
   "source": [
    "for i in range(total_prize):\n",
    "    prize = bigbox[i].div.text\n",
    "    print(prize)"
   ]
  },
  {
   "cell_type": "code",
   "execution_count": 97,
   "id": "354eb546",
   "metadata": {},
   "outputs": [],
   "source": [
    "a = []\n",
    "for i in range(total_prize):\n",
    "    prize = bigbox[i].text\n",
    "    a.append(prize)"
   ]
  },
  {
   "cell_type": "code",
   "execution_count": 98,
   "id": "4d49dc0d",
   "metadata": {},
   "outputs": [
    {
     "data": {
      "text/plain": [
       "['\\nCurrent Price*\\n₹10,999\\n',\n",
       " '\\nLowest Price\\n₹9,999\\n',\n",
       " '\\nHighest Price\\n₹12,099\\n',\n",
       " '\\nCurrent Price*\\n₹10,999\\n',\n",
       " '\\nLowest Price\\n₹9,999\\n',\n",
       " '\\nHighest Price\\n₹12,099\\n']"
      ]
     },
     "execution_count": 98,
     "metadata": {},
     "output_type": "execute_result"
    }
   ],
   "source": [
    "a"
   ]
  },
  {
   "cell_type": "code",
   "execution_count": 99,
   "id": "36c69b48",
   "metadata": {},
   "outputs": [],
   "source": [
    "b= []\n",
    "for i in a:\n",
    "    c = i.split('\\n')\n",
    "    b.append(c)\n",
    "    \n",
    "    "
   ]
  },
  {
   "cell_type": "code",
   "execution_count": 100,
   "id": "d34c6dcc",
   "metadata": {},
   "outputs": [
    {
     "data": {
      "text/plain": [
       "[['', 'Current Price*', '₹10,999', ''],\n",
       " ['', 'Lowest Price', '₹9,999', ''],\n",
       " ['', 'Highest Price', '₹12,099', ''],\n",
       " ['', 'Current Price*', '₹10,999', ''],\n",
       " ['', 'Lowest Price', '₹9,999', ''],\n",
       " ['', 'Highest Price', '₹12,099', '']]"
      ]
     },
     "execution_count": 100,
     "metadata": {},
     "output_type": "execute_result"
    }
   ],
   "source": [
    "b"
   ]
  },
  {
   "cell_type": "code",
   "execution_count": 101,
   "id": "319b3503",
   "metadata": {},
   "outputs": [],
   "source": [
    "d=[]\n",
    "e=[]\n",
    "for i in b:\n",
    "    if type(i)==str:\n",
    "        d.append(i)\n",
    "    elif type(i)==int:\n",
    "        e.append(i)\n",
    "    else:\n",
    "        continue\n",
    "        "
   ]
  },
  {
   "cell_type": "code",
   "execution_count": 102,
   "id": "2daae37a",
   "metadata": {},
   "outputs": [],
   "source": [
    "import pandas as pd\n"
   ]
  },
  {
   "cell_type": "code",
   "execution_count": 103,
   "id": "6b1ca348",
   "metadata": {},
   "outputs": [],
   "source": [
    "df= pd.DataFrame(b)"
   ]
  },
  {
   "cell_type": "code",
   "execution_count": 104,
   "id": "fc7c5721",
   "metadata": {},
   "outputs": [
    {
     "data": {
      "text/html": [
       "<div>\n",
       "<style scoped>\n",
       "    .dataframe tbody tr th:only-of-type {\n",
       "        vertical-align: middle;\n",
       "    }\n",
       "\n",
       "    .dataframe tbody tr th {\n",
       "        vertical-align: top;\n",
       "    }\n",
       "\n",
       "    .dataframe thead th {\n",
       "        text-align: right;\n",
       "    }\n",
       "</style>\n",
       "<table border=\"1\" class=\"dataframe\">\n",
       "  <thead>\n",
       "    <tr style=\"text-align: right;\">\n",
       "      <th></th>\n",
       "      <th>0</th>\n",
       "      <th>1</th>\n",
       "      <th>2</th>\n",
       "      <th>3</th>\n",
       "    </tr>\n",
       "  </thead>\n",
       "  <tbody>\n",
       "    <tr>\n",
       "      <th>0</th>\n",
       "      <td></td>\n",
       "      <td>Current Price*</td>\n",
       "      <td>₹10,999</td>\n",
       "      <td></td>\n",
       "    </tr>\n",
       "    <tr>\n",
       "      <th>1</th>\n",
       "      <td></td>\n",
       "      <td>Lowest Price</td>\n",
       "      <td>₹9,999</td>\n",
       "      <td></td>\n",
       "    </tr>\n",
       "    <tr>\n",
       "      <th>2</th>\n",
       "      <td></td>\n",
       "      <td>Highest Price</td>\n",
       "      <td>₹12,099</td>\n",
       "      <td></td>\n",
       "    </tr>\n",
       "    <tr>\n",
       "      <th>3</th>\n",
       "      <td></td>\n",
       "      <td>Current Price*</td>\n",
       "      <td>₹10,999</td>\n",
       "      <td></td>\n",
       "    </tr>\n",
       "    <tr>\n",
       "      <th>4</th>\n",
       "      <td></td>\n",
       "      <td>Lowest Price</td>\n",
       "      <td>₹9,999</td>\n",
       "      <td></td>\n",
       "    </tr>\n",
       "    <tr>\n",
       "      <th>5</th>\n",
       "      <td></td>\n",
       "      <td>Highest Price</td>\n",
       "      <td>₹12,099</td>\n",
       "      <td></td>\n",
       "    </tr>\n",
       "  </tbody>\n",
       "</table>\n",
       "</div>"
      ],
      "text/plain": [
       "  0               1        2 3\n",
       "0    Current Price*  ₹10,999  \n",
       "1      Lowest Price   ₹9,999  \n",
       "2     Highest Price  ₹12,099  \n",
       "3    Current Price*  ₹10,999  \n",
       "4      Lowest Price   ₹9,999  \n",
       "5     Highest Price  ₹12,099  "
      ]
     },
     "execution_count": 104,
     "metadata": {},
     "output_type": "execute_result"
    }
   ],
   "source": [
    "df"
   ]
  },
  {
   "cell_type": "code",
   "execution_count": 105,
   "id": "f01aad99",
   "metadata": {},
   "outputs": [],
   "source": [
    "df.drop(3,axis =1,inplace =True)"
   ]
  },
  {
   "cell_type": "code",
   "execution_count": 106,
   "id": "956aad6c",
   "metadata": {},
   "outputs": [
    {
     "data": {
      "text/html": [
       "<div>\n",
       "<style scoped>\n",
       "    .dataframe tbody tr th:only-of-type {\n",
       "        vertical-align: middle;\n",
       "    }\n",
       "\n",
       "    .dataframe tbody tr th {\n",
       "        vertical-align: top;\n",
       "    }\n",
       "\n",
       "    .dataframe thead th {\n",
       "        text-align: right;\n",
       "    }\n",
       "</style>\n",
       "<table border=\"1\" class=\"dataframe\">\n",
       "  <thead>\n",
       "    <tr style=\"text-align: right;\">\n",
       "      <th></th>\n",
       "      <th>0</th>\n",
       "      <th>1</th>\n",
       "      <th>2</th>\n",
       "    </tr>\n",
       "  </thead>\n",
       "  <tbody>\n",
       "    <tr>\n",
       "      <th>3</th>\n",
       "      <td></td>\n",
       "      <td>Current Price*</td>\n",
       "      <td>₹10,999</td>\n",
       "    </tr>\n",
       "    <tr>\n",
       "      <th>4</th>\n",
       "      <td></td>\n",
       "      <td>Lowest Price</td>\n",
       "      <td>₹9,999</td>\n",
       "    </tr>\n",
       "    <tr>\n",
       "      <th>5</th>\n",
       "      <td></td>\n",
       "      <td>Highest Price</td>\n",
       "      <td>₹12,099</td>\n",
       "    </tr>\n",
       "  </tbody>\n",
       "</table>\n",
       "</div>"
      ],
      "text/plain": [
       "  0               1        2\n",
       "3    Current Price*  ₹10,999\n",
       "4      Lowest Price   ₹9,999\n",
       "5     Highest Price  ₹12,099"
      ]
     },
     "execution_count": 106,
     "metadata": {},
     "output_type": "execute_result"
    }
   ],
   "source": [
    "df[df.duplicated()]"
   ]
  },
  {
   "cell_type": "code",
   "execution_count": 107,
   "id": "3a866dc5",
   "metadata": {},
   "outputs": [],
   "source": [
    "df.drop_duplicates(inplace = True)"
   ]
  },
  {
   "cell_type": "code",
   "execution_count": 108,
   "id": "fa1af03f",
   "metadata": {},
   "outputs": [
    {
     "data": {
      "text/html": [
       "<div>\n",
       "<style scoped>\n",
       "    .dataframe tbody tr th:only-of-type {\n",
       "        vertical-align: middle;\n",
       "    }\n",
       "\n",
       "    .dataframe tbody tr th {\n",
       "        vertical-align: top;\n",
       "    }\n",
       "\n",
       "    .dataframe thead th {\n",
       "        text-align: right;\n",
       "    }\n",
       "</style>\n",
       "<table border=\"1\" class=\"dataframe\">\n",
       "  <thead>\n",
       "    <tr style=\"text-align: right;\">\n",
       "      <th></th>\n",
       "      <th>0</th>\n",
       "      <th>1</th>\n",
       "      <th>2</th>\n",
       "    </tr>\n",
       "  </thead>\n",
       "  <tbody>\n",
       "    <tr>\n",
       "      <th>0</th>\n",
       "      <td></td>\n",
       "      <td>Current Price*</td>\n",
       "      <td>₹10,999</td>\n",
       "    </tr>\n",
       "    <tr>\n",
       "      <th>1</th>\n",
       "      <td></td>\n",
       "      <td>Lowest Price</td>\n",
       "      <td>₹9,999</td>\n",
       "    </tr>\n",
       "    <tr>\n",
       "      <th>2</th>\n",
       "      <td></td>\n",
       "      <td>Highest Price</td>\n",
       "      <td>₹12,099</td>\n",
       "    </tr>\n",
       "  </tbody>\n",
       "</table>\n",
       "</div>"
      ],
      "text/plain": [
       "  0               1        2\n",
       "0    Current Price*  ₹10,999\n",
       "1      Lowest Price   ₹9,999\n",
       "2     Highest Price  ₹12,099"
      ]
     },
     "execution_count": 108,
     "metadata": {},
     "output_type": "execute_result"
    }
   ],
   "source": [
    "df"
   ]
  },
  {
   "cell_type": "code",
   "execution_count": null,
   "id": "23d12bcf",
   "metadata": {},
   "outputs": [],
   "source": []
  },
  {
   "cell_type": "code",
   "execution_count": null,
   "id": "2c137890",
   "metadata": {},
   "outputs": [],
   "source": []
  }
 ],
 "metadata": {
  "kernelspec": {
   "display_name": "Python 3 (ipykernel)",
   "language": "python",
   "name": "python3"
  },
  "language_info": {
   "codemirror_mode": {
    "name": "ipython",
    "version": 3
   },
   "file_extension": ".py",
   "mimetype": "text/x-python",
   "name": "python",
   "nbconvert_exporter": "python",
   "pygments_lexer": "ipython3",
   "version": "3.11.3"
  }
 },
 "nbformat": 4,
 "nbformat_minor": 5
}
